{
  "nbformat": 4,
  "nbformat_minor": 0,
  "metadata": {
    "colab": {
      "name": "MNIST_Tensorflow_Keras.ipynb",
      "provenance": [],
      "collapsed_sections": []
    },
    "kernelspec": {
      "name": "python3",
      "display_name": "Python 3"
    },
    "accelerator": "GPU"
  },
  "cells": [
    {
      "cell_type": "code",
      "metadata": {
        "id": "UaLrSlxN57CA",
        "colab_type": "code",
        "colab": {}
      },
      "source": [
        "import keras\n",
        "from keras.datasets import mnist\n",
        "from keras.models import Sequential\n",
        "from keras.layers import Dense\n",
        "from keras.optimizers import SGD\n",
        "from matplotlib import pyplot as plt"
      ],
      "execution_count": null,
      "outputs": []
    },
    {
      "cell_type": "code",
      "metadata": {
        "id": "RYuxW-_46J5-",
        "colab_type": "code",
        "colab": {}
      },
      "source": [
        "# Load data from mnist\n",
        "(X_train, y_train), (X_valid, y_valid) = mnist.load_data()"
      ],
      "execution_count": null,
      "outputs": []
    },
    {
      "cell_type": "code",
      "metadata": {
        "id": "noFr2yH-7GKv",
        "colab_type": "code",
        "colab": {
          "base_uri": "https://localhost:8080/",
          "height": 283
        },
        "outputId": "5acb6b1e-6549-49c8-df60-d9b6b58a3107"
      },
      "source": [
        "#Show some images from X_train\n",
        "plt.figure(figsize=(5,5))\n",
        "for k in range(12):\n",
        "  plt.subplot(3, 4, k+1)\n",
        "  plt.imshow(X_train[k], cmap='Greys')\n",
        "  plt.axis('off')"
      ],
      "execution_count": null,
      "outputs": [
        {
          "output_type": "display_data",
          "data": {
            "image/png": "[encoded data removed]",
            "text/plain": [
              "<Figure size 360x360 with 12 Axes>"
            ]
          },
          "metadata": {
            "tags": [],
            "needs_background": "light"
          }
        }
      ]
    },
    {
      "cell_type": "code",
      "metadata": {
        "id": "s9qSP2tt7d-2",
        "colab_type": "code",
        "colab": {}
      },
      "source": [
        "#Flattening two-dimensional images to one dimension\n",
        "X_train = X_train.reshape(60000, 784).astype('float32')\n",
        "X_valid = X_valid.reshape(10000, 784).astype('float32')"
      ],
      "execution_count": null,
      "outputs": []
    },
    {
      "cell_type": "code",
      "metadata": {
        "id": "8w-0EO0Y-aBK",
        "colab_type": "code",
        "colab": {}
      },
      "source": [
        "#Normalizing\n",
        "X_train /= 255\n",
        "X_valid /= 255"
      ],
      "execution_count": null,
      "outputs": []
    },
    {
      "cell_type": "code",
      "metadata": {
        "id": "V2fEqeOd-mWa",
        "colab_type": "code",
        "colab": {}
      },
      "source": [
        "#Converting integer labels to one-hot\n",
        "n_classes = 10\n",
        "y_train = keras.utils.to_categorical(y_train, n_classes)\n",
        "y_valid = keras.utils.to_categorical(y_valid, n_classes)"
      ],
      "execution_count": null,
      "outputs": []
    },
    {
      "cell_type": "code",
      "metadata": {
        "id": "9YjnRLPd_9hN",
        "colab_type": "code",
        "colab": {
          "base_uri": "https://localhost:8080/",
          "height": 34
        },
        "outputId": "4dd7bb24-5a5e-4645-cc62-923cb3a28c34"
      },
      "source": [
        "y_valid.shape"
      ],
      "execution_count": null,
      "outputs": [
        {
          "output_type": "execute_result",
          "data": {
            "text/plain": [
              "(10000, 10)"
            ]
          },
          "metadata": {
            "tags": []
          },
          "execution_count": 61
        }
      ]
    },
    {
      "cell_type": "code",
      "metadata": {
        "id": "eV3n4RPIAGyl",
        "colab_type": "code",
        "colab": {}
      },
      "source": [
        "model = Sequential()\n",
        "model.add(Dense(64, activation='sigmoid', input_shape=(784, )))\n",
        "model.add(Dense(10, activation='softmax'))"
      ],
      "execution_count": null,
      "outputs": []
    },
    {
      "cell_type": "code",
      "metadata": {
        "id": "69PG0KMHB-rS",
        "colab_type": "code",
        "colab": {
          "base_uri": "https://localhost:8080/",
          "height": 225
        },
        "outputId": "2c2dc664-4210-45b9-ba23-ac12b5343954"
      },
      "source": [
        "model.summary()"
      ],
      "execution_count": null,
      "outputs": [
        {
          "output_type": "stream",
          "text": [
            "Model: \"sequential_4\"\n",
            "_________________________________________________________________\n",
            "Layer (type)                 Output Shape              Param #   \n",
            "=================================================================\n",
            "dense_6 (Dense)              (None, 64)                50240     \n",
            "_________________________________________________________________\n",
            "dense_7 (Dense)              (None, 10)                650       \n",
            "=================================================================\n",
            "Total params: 50,890\n",
            "Trainable params: 50,890\n",
            "Non-trainable params: 0\n",
            "_________________________________________________________________\n"
          ],
          "name": "stdout"
        }
      ]
    },
    {
      "cell_type": "code",
      "metadata": {
        "id": "eRMoBxUICGPK",
        "colab_type": "code",
        "colab": {}
      },
      "source": [
        "#Configure model\n",
        "model.compile(loss='mean_squared_error', optimizer=SGD(lr=0.01), metrics=['accuracy'])"
      ],
      "execution_count": null,
      "outputs": []
    },
    {
      "cell_type": "code",
      "metadata": {
        "id": "e0ATvI8DA96L",
        "colab_type": "code",
        "colab": {
          "base_uri": "https://localhost:8080/",
          "height": 1000
        },
        "outputId": "d4aaa5fd-92fe-4c90-bd2d-710a631a53e8"
      },
      "source": [
        "# training the Shallow Learning Model\n",
        "model.fit(X_train, y_train,\n",
        "          batch_size=128, epochs=200, \n",
        "          verbose=1, \n",
        "          validation_data=(X_valid, y_valid))"
      ],
      "execution_count": null,
      "outputs": [
        {
          "output_type": "stream",
          "text": [
            "Train on 60000 samples, validate on 10000 samples\n",
            "Epoch 1/200\n",
            "60000/60000 [==============================] - 3s 48us/step - loss: 0.0945 - accuracy: 0.1001 - val_loss: 0.0940 - val_accuracy: 0.1058\n",
            "Epoch 2/200\n",
            "60000/60000 [==============================] - 1s 20us/step - loss: 0.0935 - accuracy: 0.1100 - val_loss: 0.0932 - val_accuracy: 0.1145\n",
            "Epoch 3/200\n",
            "60000/60000 [==============================] - 1s 20us/step - loss: 0.0928 - accuracy: 0.1256 - val_loss: 0.0925 - val_accuracy: 0.1333\n",
            "Epoch 4/200\n",
            "60000/60000 [==============================] - 1s 20us/step - loss: 0.0921 - accuracy: 0.1473 - val_loss: 0.0918 - val_accuracy: 0.1554\n",
            "Epoch 5/200\n",
            "60000/60000 [==============================] - 1s 20us/step - loss: 0.0915 - accuracy: 0.1704 - val_loss: 0.0913 - val_accuracy: 0.1774\n",
            "Epoch 6/200\n",
            "60000/60000 [==============================] - 1s 20us/step - loss: 0.0910 - accuracy: 0.1898 - val_loss: 0.0908 - val_accuracy: 0.1979\n",
            "Epoch 7/200\n",
            "60000/60000 [==============================] - 1s 20us/step - loss: 0.0905 - accuracy: 0.2050 - val_loss: 0.0903 - val_accuracy: 0.2110\n",
            "Epoch 8/200\n",
            "60000/60000 [==============================] - 1s 20us/step - loss: 0.0901 - accuracy: 0.2164 - val_loss: 0.0899 - val_accuracy: 0.2225\n",
            "Epoch 9/200\n",
            "60000/60000 [==============================] - 1s 20us/step - loss: 0.0897 - accuracy: 0.2257 - val_loss: 0.0895 - val_accuracy: 0.2320\n",
            "Epoch 10/200\n",
            "60000/60000 [==============================] - 1s 20us/step - loss: 0.0893 - accuracy: 0.2348 - val_loss: 0.0892 - val_accuracy: 0.2412\n",
            "Epoch 11/200\n",
            "60000/60000 [==============================] - 1s 20us/step - loss: 0.0890 - accuracy: 0.2416 - val_loss: 0.0888 - val_accuracy: 0.2498\n",
            "Epoch 12/200\n",
            "60000/60000 [==============================] - 1s 21us/step - loss: 0.0886 - accuracy: 0.2486 - val_loss: 0.0885 - val_accuracy: 0.2576\n",
            "Epoch 13/200\n",
            "60000/60000 [==============================] - 1s 20us/step - loss: 0.0883 - accuracy: 0.2572 - val_loss: 0.0882 - val_accuracy: 0.2684\n",
            "Epoch 14/200\n",
            "60000/60000 [==============================] - 1s 20us/step - loss: 0.0880 - accuracy: 0.2724 - val_loss: 0.0879 - val_accuracy: 0.2805\n",
            "Epoch 15/200\n",
            "60000/60000 [==============================] - 1s 20us/step - loss: 0.0877 - accuracy: 0.2864 - val_loss: 0.0876 - val_accuracy: 0.2955\n",
            "Epoch 16/200\n",
            "60000/60000 [==============================] - 1s 21us/step - loss: 0.0874 - accuracy: 0.2995 - val_loss: 0.0873 - val_accuracy: 0.3049\n",
            "Epoch 17/200\n",
            "60000/60000 [==============================] - 1s 20us/step - loss: 0.0871 - accuracy: 0.3101 - val_loss: 0.0870 - val_accuracy: 0.3158\n",
            "Epoch 18/200\n",
            "60000/60000 [==============================] - 1s 20us/step - loss: 0.0868 - accuracy: 0.3202 - val_loss: 0.0867 - val_accuracy: 0.3266\n",
            "Epoch 19/200\n",
            "60000/60000 [==============================] - 1s 20us/step - loss: 0.0865 - accuracy: 0.3288 - val_loss: 0.0864 - val_accuracy: 0.3355\n",
            "Epoch 20/200\n",
            "60000/60000 [==============================] - 1s 20us/step - loss: 0.0862 - accuracy: 0.3359 - val_loss: 0.0860 - val_accuracy: 0.3409\n",
            "Epoch 21/200\n",
            "60000/60000 [==============================] - 1s 20us/step - loss: 0.0859 - accuracy: 0.3420 - val_loss: 0.0857 - val_accuracy: 0.3448\n",
            "Epoch 22/200\n",
            "60000/60000 [==============================] - 1s 21us/step - loss: 0.0856 - accuracy: 0.3443 - val_loss: 0.0854 - val_accuracy: 0.3491\n",
            "Epoch 23/200\n",
            "60000/60000 [==============================] - 1s 21us/step - loss: 0.0853 - accuracy: 0.3471 - val_loss: 0.0851 - val_accuracy: 0.3501\n",
            "Epoch 24/200\n",
            "60000/60000 [==============================] - 1s 21us/step - loss: 0.0849 - accuracy: 0.3491 - val_loss: 0.0847 - val_accuracy: 0.3532\n",
            "Epoch 25/200\n",
            "60000/60000 [==============================] - 1s 21us/step - loss: 0.0846 - accuracy: 0.3518 - val_loss: 0.0844 - val_accuracy: 0.3541\n",
            "Epoch 26/200\n",
            "60000/60000 [==============================] - 1s 22us/step - loss: 0.0843 - accuracy: 0.3537 - val_loss: 0.0841 - val_accuracy: 0.3578\n",
            "Epoch 27/200\n",
            "60000/60000 [==============================] - 1s 21us/step - loss: 0.0839 - accuracy: 0.3544 - val_loss: 0.0837 - val_accuracy: 0.3589\n",
            "Epoch 28/200\n",
            "60000/60000 [==============================] - 1s 21us/step - loss: 0.0836 - accuracy: 0.3559 - val_loss: 0.0833 - val_accuracy: 0.3602\n",
            "Epoch 29/200\n",
            "60000/60000 [==============================] - 1s 21us/step - loss: 0.0832 - accuracy: 0.3579 - val_loss: 0.0830 - val_accuracy: 0.3610\n",
            "Epoch 30/200\n",
            "60000/60000 [==============================] - 1s 21us/step - loss: 0.0828 - accuracy: 0.3598 - val_loss: 0.0826 - val_accuracy: 0.3613\n",
            "Epoch 31/200\n",
            "60000/60000 [==============================] - 1s 21us/step - loss: 0.0825 - accuracy: 0.3611 - val_loss: 0.0822 - val_accuracy: 0.3630\n",
            "Epoch 32/200\n",
            "60000/60000 [==============================] - 1s 21us/step - loss: 0.0821 - accuracy: 0.3624 - val_loss: 0.0819 - val_accuracy: 0.3638\n",
            "Epoch 33/200\n",
            "60000/60000 [==============================] - 1s 21us/step - loss: 0.0817 - accuracy: 0.3633 - val_loss: 0.0815 - val_accuracy: 0.3647\n",
            "Epoch 34/200\n",
            "60000/60000 [==============================] - 1s 21us/step - loss: 0.0813 - accuracy: 0.3645 - val_loss: 0.0811 - val_accuracy: 0.3666\n",
            "Epoch 35/200\n",
            "60000/60000 [==============================] - 1s 21us/step - loss: 0.0809 - accuracy: 0.3650 - val_loss: 0.0807 - val_accuracy: 0.3691\n",
            "Epoch 36/200\n",
            "60000/60000 [==============================] - 1s 21us/step - loss: 0.0805 - accuracy: 0.3665 - val_loss: 0.0803 - val_accuracy: 0.3705\n",
            "Epoch 37/200\n",
            "60000/60000 [==============================] - 1s 20us/step - loss: 0.0802 - accuracy: 0.3677 - val_loss: 0.0799 - val_accuracy: 0.3718\n",
            "Epoch 38/200\n",
            "60000/60000 [==============================] - 1s 21us/step - loss: 0.0798 - accuracy: 0.3701 - val_loss: 0.0795 - val_accuracy: 0.3732\n",
            "Epoch 39/200\n",
            "60000/60000 [==============================] - 1s 21us/step - loss: 0.0793 - accuracy: 0.3712 - val_loss: 0.0791 - val_accuracy: 0.3750\n",
            "Epoch 40/200\n",
            "60000/60000 [==============================] - 1s 21us/step - loss: 0.0789 - accuracy: 0.3734 - val_loss: 0.0786 - val_accuracy: 0.3770\n",
            "Epoch 41/200\n",
            "60000/60000 [==============================] - 1s 22us/step - loss: 0.0785 - accuracy: 0.3756 - val_loss: 0.0782 - val_accuracy: 0.3789\n",
            "Epoch 42/200\n",
            "60000/60000 [==============================] - 1s 22us/step - loss: 0.0781 - accuracy: 0.3789 - val_loss: 0.0778 - val_accuracy: 0.3809\n",
            "Epoch 43/200\n",
            "60000/60000 [==============================] - 1s 22us/step - loss: 0.0777 - accuracy: 0.3817 - val_loss: 0.0774 - val_accuracy: 0.3858\n",
            "Epoch 44/200\n",
            "60000/60000 [==============================] - 1s 22us/step - loss: 0.0773 - accuracy: 0.3851 - val_loss: 0.0770 - val_accuracy: 0.3891\n",
            "Epoch 45/200\n",
            "60000/60000 [==============================] - 1s 21us/step - loss: 0.0769 - accuracy: 0.3888 - val_loss: 0.0766 - val_accuracy: 0.3938\n",
            "Epoch 46/200\n",
            "60000/60000 [==============================] - 1s 21us/step - loss: 0.0765 - accuracy: 0.3933 - val_loss: 0.0761 - val_accuracy: 0.3977\n",
            "Epoch 47/200\n",
            "60000/60000 [==============================] - 1s 21us/step - loss: 0.0761 - accuracy: 0.3977 - val_loss: 0.0757 - val_accuracy: 0.4031\n",
            "Epoch 48/200\n",
            "60000/60000 [==============================] - 1s 21us/step - loss: 0.0757 - accuracy: 0.4017 - val_loss: 0.0753 - val_accuracy: 0.4092\n",
            "Epoch 49/200\n",
            "60000/60000 [==============================] - 1s 21us/step - loss: 0.0753 - accuracy: 0.4071 - val_loss: 0.0749 - val_accuracy: 0.4144\n",
            "Epoch 50/200\n",
            "60000/60000 [==============================] - 1s 21us/step - loss: 0.0748 - accuracy: 0.4121 - val_loss: 0.0745 - val_accuracy: 0.4203\n",
            "Epoch 51/200\n",
            "60000/60000 [==============================] - 1s 21us/step - loss: 0.0744 - accuracy: 0.4189 - val_loss: 0.0741 - val_accuracy: 0.4268\n",
            "Epoch 52/200\n",
            "60000/60000 [==============================] - 1s 21us/step - loss: 0.0740 - accuracy: 0.4247 - val_loss: 0.0736 - val_accuracy: 0.4345\n",
            "Epoch 53/200\n",
            "60000/60000 [==============================] - 1s 21us/step - loss: 0.0736 - accuracy: 0.4318 - val_loss: 0.0732 - val_accuracy: 0.4419\n",
            "Epoch 54/200\n",
            "60000/60000 [==============================] - 1s 21us/step - loss: 0.0732 - accuracy: 0.4384 - val_loss: 0.0728 - val_accuracy: 0.4488\n",
            "Epoch 55/200\n",
            "60000/60000 [==============================] - 1s 21us/step - loss: 0.0728 - accuracy: 0.4458 - val_loss: 0.0724 - val_accuracy: 0.4572\n",
            "Epoch 56/200\n",
            "60000/60000 [==============================] - 1s 21us/step - loss: 0.0724 - accuracy: 0.4534 - val_loss: 0.0720 - val_accuracy: 0.4649\n",
            "Epoch 57/200\n",
            "60000/60000 [==============================] - 1s 21us/step - loss: 0.0720 - accuracy: 0.4615 - val_loss: 0.0716 - val_accuracy: 0.4750\n",
            "Epoch 58/200\n",
            "60000/60000 [==============================] - 1s 20us/step - loss: 0.0716 - accuracy: 0.4701 - val_loss: 0.0712 - val_accuracy: 0.4852\n",
            "Epoch 59/200\n",
            "60000/60000 [==============================] - 1s 21us/step - loss: 0.0712 - accuracy: 0.4782 - val_loss: 0.0708 - val_accuracy: 0.4929\n",
            "Epoch 60/200\n",
            "60000/60000 [==============================] - 1s 21us/step - loss: 0.0708 - accuracy: 0.4871 - val_loss: 0.0704 - val_accuracy: 0.5009\n",
            "Epoch 61/200\n",
            "60000/60000 [==============================] - 1s 21us/step - loss: 0.0705 - accuracy: 0.4949 - val_loss: 0.0700 - val_accuracy: 0.5116\n",
            "Epoch 62/200\n",
            "60000/60000 [==============================] - 1s 21us/step - loss: 0.0701 - accuracy: 0.5033 - val_loss: 0.0696 - val_accuracy: 0.5216\n",
            "Epoch 63/200\n",
            "60000/60000 [==============================] - 1s 21us/step - loss: 0.0697 - accuracy: 0.5120 - val_loss: 0.0692 - val_accuracy: 0.5301\n",
            "Epoch 64/200\n",
            "60000/60000 [==============================] - 1s 21us/step - loss: 0.0693 - accuracy: 0.5204 - val_loss: 0.0688 - val_accuracy: 0.5374\n",
            "Epoch 65/200\n",
            "60000/60000 [==============================] - 1s 21us/step - loss: 0.0689 - accuracy: 0.5284 - val_loss: 0.0684 - val_accuracy: 0.5448\n",
            "Epoch 66/200\n",
            "60000/60000 [==============================] - 1s 21us/step - loss: 0.0685 - accuracy: 0.5371 - val_loss: 0.0680 - val_accuracy: 0.5523\n",
            "Epoch 67/200\n",
            "60000/60000 [==============================] - 1s 21us/step - loss: 0.0681 - accuracy: 0.5448 - val_loss: 0.0676 - val_accuracy: 0.5602\n",
            "Epoch 68/200\n",
            "60000/60000 [==============================] - 1s 21us/step - loss: 0.0677 - accuracy: 0.5538 - val_loss: 0.0672 - val_accuracy: 0.5684\n",
            "Epoch 69/200\n",
            "60000/60000 [==============================] - 1s 21us/step - loss: 0.0674 - accuracy: 0.5611 - val_loss: 0.0669 - val_accuracy: 0.5765\n",
            "Epoch 70/200\n",
            "60000/60000 [==============================] - 1s 21us/step - loss: 0.0670 - accuracy: 0.5689 - val_loss: 0.0665 - val_accuracy: 0.5831\n",
            "Epoch 71/200\n",
            "60000/60000 [==============================] - 1s 21us/step - loss: 0.0666 - accuracy: 0.5758 - val_loss: 0.0661 - val_accuracy: 0.5918\n",
            "Epoch 72/200\n",
            "60000/60000 [==============================] - 1s 20us/step - loss: 0.0662 - accuracy: 0.5826 - val_loss: 0.0657 - val_accuracy: 0.5983\n",
            "Epoch 73/200\n",
            "60000/60000 [==============================] - 1s 20us/step - loss: 0.0658 - accuracy: 0.5895 - val_loss: 0.0653 - val_accuracy: 0.6045\n",
            "Epoch 74/200\n",
            "60000/60000 [==============================] - 1s 21us/step - loss: 0.0655 - accuracy: 0.5959 - val_loss: 0.0649 - val_accuracy: 0.6119\n",
            "Epoch 75/200\n",
            "60000/60000 [==============================] - 1s 20us/step - loss: 0.0651 - accuracy: 0.6030 - val_loss: 0.0645 - val_accuracy: 0.6183\n",
            "Epoch 76/200\n",
            "60000/60000 [==============================] - 1s 20us/step - loss: 0.0647 - accuracy: 0.6094 - val_loss: 0.0641 - val_accuracy: 0.6250\n",
            "Epoch 77/200\n",
            "60000/60000 [==============================] - 1s 21us/step - loss: 0.0643 - accuracy: 0.6161 - val_loss: 0.0637 - val_accuracy: 0.6311\n",
            "Epoch 78/200\n",
            "60000/60000 [==============================] - 1s 21us/step - loss: 0.0639 - accuracy: 0.6219 - val_loss: 0.0633 - val_accuracy: 0.6367\n",
            "Epoch 79/200\n",
            "60000/60000 [==============================] - 1s 20us/step - loss: 0.0635 - accuracy: 0.6276 - val_loss: 0.0630 - val_accuracy: 0.6432\n",
            "Epoch 80/200\n",
            "60000/60000 [==============================] - 1s 20us/step - loss: 0.0632 - accuracy: 0.6337 - val_loss: 0.0626 - val_accuracy: 0.6496\n",
            "Epoch 81/200\n",
            "60000/60000 [==============================] - 1s 21us/step - loss: 0.0628 - accuracy: 0.6387 - val_loss: 0.0622 - val_accuracy: 0.6548\n",
            "Epoch 82/200\n",
            "60000/60000 [==============================] - 1s 21us/step - loss: 0.0624 - accuracy: 0.6442 - val_loss: 0.0618 - val_accuracy: 0.6592\n",
            "Epoch 83/200\n",
            "60000/60000 [==============================] - 1s 21us/step - loss: 0.0620 - accuracy: 0.6493 - val_loss: 0.0614 - val_accuracy: 0.6652\n",
            "Epoch 84/200\n",
            "60000/60000 [==============================] - 1s 21us/step - loss: 0.0616 - accuracy: 0.6539 - val_loss: 0.0610 - val_accuracy: 0.6697\n",
            "Epoch 85/200\n",
            "60000/60000 [==============================] - 1s 21us/step - loss: 0.0612 - accuracy: 0.6591 - val_loss: 0.0606 - val_accuracy: 0.6757\n",
            "Epoch 86/200\n",
            "60000/60000 [==============================] - 1s 21us/step - loss: 0.0609 - accuracy: 0.6636 - val_loss: 0.0602 - val_accuracy: 0.6796\n",
            "Epoch 87/200\n",
            "60000/60000 [==============================] - 1s 21us/step - loss: 0.0605 - accuracy: 0.6670 - val_loss: 0.0598 - val_accuracy: 0.6823\n",
            "Epoch 88/200\n",
            "60000/60000 [==============================] - 1s 20us/step - loss: 0.0601 - accuracy: 0.6710 - val_loss: 0.0594 - val_accuracy: 0.6869\n",
            "Epoch 89/200\n",
            "60000/60000 [==============================] - 1s 20us/step - loss: 0.0597 - accuracy: 0.6748 - val_loss: 0.0590 - val_accuracy: 0.6918\n",
            "Epoch 90/200\n",
            "60000/60000 [==============================] - 1s 20us/step - loss: 0.0593 - accuracy: 0.6790 - val_loss: 0.0586 - val_accuracy: 0.6948\n",
            "Epoch 91/200\n",
            "60000/60000 [==============================] - 1s 21us/step - loss: 0.0589 - accuracy: 0.6830 - val_loss: 0.0582 - val_accuracy: 0.6980\n",
            "Epoch 92/200\n",
            "60000/60000 [==============================] - 1s 21us/step - loss: 0.0585 - accuracy: 0.6865 - val_loss: 0.0578 - val_accuracy: 0.7019\n",
            "Epoch 93/200\n",
            "60000/60000 [==============================] - 1s 21us/step - loss: 0.0581 - accuracy: 0.6899 - val_loss: 0.0574 - val_accuracy: 0.7053\n",
            "Epoch 94/200\n",
            "60000/60000 [==============================] - 1s 20us/step - loss: 0.0577 - accuracy: 0.6934 - val_loss: 0.0570 - val_accuracy: 0.7091\n",
            "Epoch 95/200\n",
            "60000/60000 [==============================] - 1s 21us/step - loss: 0.0573 - accuracy: 0.6969 - val_loss: 0.0566 - val_accuracy: 0.7119\n",
            "Epoch 96/200\n",
            "60000/60000 [==============================] - 1s 21us/step - loss: 0.0569 - accuracy: 0.7010 - val_loss: 0.0562 - val_accuracy: 0.7144\n",
            "Epoch 97/200\n",
            "60000/60000 [==============================] - 1s 20us/step - loss: 0.0565 - accuracy: 0.7041 - val_loss: 0.0558 - val_accuracy: 0.7175\n",
            "Epoch 98/200\n",
            "60000/60000 [==============================] - 1s 21us/step - loss: 0.0561 - accuracy: 0.7071 - val_loss: 0.0553 - val_accuracy: 0.7215\n",
            "Epoch 99/200\n",
            "60000/60000 [==============================] - 1s 20us/step - loss: 0.0557 - accuracy: 0.7100 - val_loss: 0.0549 - val_accuracy: 0.7248\n",
            "Epoch 100/200\n",
            "60000/60000 [==============================] - 1s 20us/step - loss: 0.0553 - accuracy: 0.7128 - val_loss: 0.0545 - val_accuracy: 0.7275\n",
            "Epoch 101/200\n",
            "60000/60000 [==============================] - 1s 20us/step - loss: 0.0549 - accuracy: 0.7168 - val_loss: 0.0541 - val_accuracy: 0.7308\n",
            "Epoch 102/200\n",
            "60000/60000 [==============================] - 1s 20us/step - loss: 0.0545 - accuracy: 0.7194 - val_loss: 0.0537 - val_accuracy: 0.7346\n",
            "Epoch 103/200\n",
            "60000/60000 [==============================] - 1s 20us/step - loss: 0.0542 - accuracy: 0.7228 - val_loss: 0.0533 - val_accuracy: 0.7380\n",
            "Epoch 104/200\n",
            "60000/60000 [==============================] - 1s 20us/step - loss: 0.0538 - accuracy: 0.7258 - val_loss: 0.0529 - val_accuracy: 0.7402\n",
            "Epoch 105/200\n",
            "60000/60000 [==============================] - 1s 20us/step - loss: 0.0534 - accuracy: 0.7290 - val_loss: 0.0525 - val_accuracy: 0.7427\n",
            "Epoch 106/200\n",
            "60000/60000 [==============================] - 1s 20us/step - loss: 0.0530 - accuracy: 0.7322 - val_loss: 0.0521 - val_accuracy: 0.7456\n",
            "Epoch 107/200\n",
            "60000/60000 [==============================] - 1s 20us/step - loss: 0.0526 - accuracy: 0.7345 - val_loss: 0.0517 - val_accuracy: 0.7483\n",
            "Epoch 108/200\n",
            "60000/60000 [==============================] - 1s 20us/step - loss: 0.0522 - accuracy: 0.7372 - val_loss: 0.0513 - val_accuracy: 0.7508\n",
            "Epoch 109/200\n",
            "60000/60000 [==============================] - 1s 20us/step - loss: 0.0518 - accuracy: 0.7397 - val_loss: 0.0509 - val_accuracy: 0.7540\n",
            "Epoch 110/200\n",
            "60000/60000 [==============================] - 1s 20us/step - loss: 0.0514 - accuracy: 0.7424 - val_loss: 0.0505 - val_accuracy: 0.7573\n",
            "Epoch 111/200\n",
            "60000/60000 [==============================] - 1s 20us/step - loss: 0.0510 - accuracy: 0.7448 - val_loss: 0.0501 - val_accuracy: 0.7589\n",
            "Epoch 112/200\n",
            "60000/60000 [==============================] - 1s 20us/step - loss: 0.0506 - accuracy: 0.7477 - val_loss: 0.0497 - val_accuracy: 0.7624\n",
            "Epoch 113/200\n",
            "60000/60000 [==============================] - 1s 21us/step - loss: 0.0503 - accuracy: 0.7504 - val_loss: 0.0493 - val_accuracy: 0.7654\n",
            "Epoch 114/200\n",
            "60000/60000 [==============================] - 1s 20us/step - loss: 0.0499 - accuracy: 0.7529 - val_loss: 0.0489 - val_accuracy: 0.7677\n",
            "Epoch 115/200\n",
            "60000/60000 [==============================] - 1s 20us/step - loss: 0.0495 - accuracy: 0.7552 - val_loss: 0.0486 - val_accuracy: 0.7698\n",
            "Epoch 116/200\n",
            "60000/60000 [==============================] - 1s 20us/step - loss: 0.0491 - accuracy: 0.7582 - val_loss: 0.0482 - val_accuracy: 0.7737\n",
            "Epoch 117/200\n",
            "60000/60000 [==============================] - 1s 21us/step - loss: 0.0488 - accuracy: 0.7607 - val_loss: 0.0478 - val_accuracy: 0.7757\n",
            "Epoch 118/200\n",
            "60000/60000 [==============================] - 1s 20us/step - loss: 0.0484 - accuracy: 0.7634 - val_loss: 0.0474 - val_accuracy: 0.7780\n",
            "Epoch 119/200\n",
            "60000/60000 [==============================] - 1s 21us/step - loss: 0.0480 - accuracy: 0.7662 - val_loss: 0.0470 - val_accuracy: 0.7803\n",
            "Epoch 120/200\n",
            "60000/60000 [==============================] - 1s 20us/step - loss: 0.0477 - accuracy: 0.7683 - val_loss: 0.0467 - val_accuracy: 0.7827\n",
            "Epoch 121/200\n",
            "60000/60000 [==============================] - 1s 21us/step - loss: 0.0473 - accuracy: 0.7712 - val_loss: 0.0463 - val_accuracy: 0.7852\n",
            "Epoch 122/200\n",
            "60000/60000 [==============================] - 1s 23us/step - loss: 0.0470 - accuracy: 0.7734 - val_loss: 0.0460 - val_accuracy: 0.7868\n",
            "Epoch 123/200\n",
            "60000/60000 [==============================] - 1s 22us/step - loss: 0.0466 - accuracy: 0.7761 - val_loss: 0.0456 - val_accuracy: 0.7891\n",
            "Epoch 124/200\n",
            "60000/60000 [==============================] - 1s 22us/step - loss: 0.0463 - accuracy: 0.7775 - val_loss: 0.0452 - val_accuracy: 0.7908\n",
            "Epoch 125/200\n",
            "60000/60000 [==============================] - 1s 22us/step - loss: 0.0459 - accuracy: 0.7801 - val_loss: 0.0449 - val_accuracy: 0.7937\n",
            "Epoch 126/200\n",
            "60000/60000 [==============================] - 1s 22us/step - loss: 0.0456 - accuracy: 0.7824 - val_loss: 0.0445 - val_accuracy: 0.7957\n",
            "Epoch 127/200\n",
            "60000/60000 [==============================] - 1s 22us/step - loss: 0.0452 - accuracy: 0.7841 - val_loss: 0.0442 - val_accuracy: 0.7975\n",
            "Epoch 128/200\n",
            "60000/60000 [==============================] - 1s 22us/step - loss: 0.0449 - accuracy: 0.7865 - val_loss: 0.0439 - val_accuracy: 0.7992\n",
            "Epoch 129/200\n",
            "60000/60000 [==============================] - 1s 21us/step - loss: 0.0446 - accuracy: 0.7883 - val_loss: 0.0435 - val_accuracy: 0.8009\n",
            "Epoch 130/200\n",
            "60000/60000 [==============================] - 1s 20us/step - loss: 0.0442 - accuracy: 0.7903 - val_loss: 0.0432 - val_accuracy: 0.8030\n",
            "Epoch 131/200\n",
            "60000/60000 [==============================] - 1s 20us/step - loss: 0.0439 - accuracy: 0.7926 - val_loss: 0.0429 - val_accuracy: 0.8047\n",
            "Epoch 132/200\n",
            "60000/60000 [==============================] - 1s 20us/step - loss: 0.0436 - accuracy: 0.7943 - val_loss: 0.0425 - val_accuracy: 0.8066\n",
            "Epoch 133/200\n",
            "60000/60000 [==============================] - 1s 20us/step - loss: 0.0433 - accuracy: 0.7964 - val_loss: 0.0422 - val_accuracy: 0.8081\n",
            "Epoch 134/200\n",
            "60000/60000 [==============================] - 1s 20us/step - loss: 0.0430 - accuracy: 0.7980 - val_loss: 0.0419 - val_accuracy: 0.8096\n",
            "Epoch 135/200\n",
            "60000/60000 [==============================] - 1s 20us/step - loss: 0.0427 - accuracy: 0.7993 - val_loss: 0.0416 - val_accuracy: 0.8111\n",
            "Epoch 136/200\n",
            "60000/60000 [==============================] - 1s 20us/step - loss: 0.0424 - accuracy: 0.8012 - val_loss: 0.0413 - val_accuracy: 0.8128\n",
            "Epoch 137/200\n",
            "60000/60000 [==============================] - 1s 20us/step - loss: 0.0421 - accuracy: 0.8028 - val_loss: 0.0410 - val_accuracy: 0.8142\n",
            "Epoch 138/200\n",
            "60000/60000 [==============================] - 1s 20us/step - loss: 0.0418 - accuracy: 0.8037 - val_loss: 0.0407 - val_accuracy: 0.8161\n",
            "Epoch 139/200\n",
            "60000/60000 [==============================] - 1s 20us/step - loss: 0.0415 - accuracy: 0.8054 - val_loss: 0.0404 - val_accuracy: 0.8174\n",
            "Epoch 140/200\n",
            "60000/60000 [==============================] - 1s 21us/step - loss: 0.0412 - accuracy: 0.8072 - val_loss: 0.0401 - val_accuracy: 0.8188\n",
            "Epoch 141/200\n",
            "60000/60000 [==============================] - 1s 21us/step - loss: 0.0409 - accuracy: 0.8082 - val_loss: 0.0398 - val_accuracy: 0.8206\n",
            "Epoch 142/200\n",
            "60000/60000 [==============================] - 1s 22us/step - loss: 0.0406 - accuracy: 0.8096 - val_loss: 0.0395 - val_accuracy: 0.8218\n",
            "Epoch 143/200\n",
            "60000/60000 [==============================] - 1s 21us/step - loss: 0.0403 - accuracy: 0.8110 - val_loss: 0.0392 - val_accuracy: 0.8225\n",
            "Epoch 144/200\n",
            "60000/60000 [==============================] - 1s 20us/step - loss: 0.0401 - accuracy: 0.8123 - val_loss: 0.0390 - val_accuracy: 0.8236\n",
            "Epoch 145/200\n",
            "60000/60000 [==============================] - 1s 20us/step - loss: 0.0398 - accuracy: 0.8135 - val_loss: 0.0387 - val_accuracy: 0.8247\n",
            "Epoch 146/200\n",
            "60000/60000 [==============================] - 1s 20us/step - loss: 0.0395 - accuracy: 0.8148 - val_loss: 0.0384 - val_accuracy: 0.8260\n",
            "Epoch 147/200\n",
            "60000/60000 [==============================] - 1s 20us/step - loss: 0.0393 - accuracy: 0.8165 - val_loss: 0.0382 - val_accuracy: 0.8267\n",
            "Epoch 148/200\n",
            "60000/60000 [==============================] - 1s 20us/step - loss: 0.0390 - accuracy: 0.8175 - val_loss: 0.0379 - val_accuracy: 0.8277\n",
            "Epoch 149/200\n",
            "60000/60000 [==============================] - 1s 20us/step - loss: 0.0388 - accuracy: 0.8184 - val_loss: 0.0377 - val_accuracy: 0.8287\n",
            "Epoch 150/200\n",
            "60000/60000 [==============================] - 1s 20us/step - loss: 0.0385 - accuracy: 0.8195 - val_loss: 0.0374 - val_accuracy: 0.8302\n",
            "Epoch 151/200\n",
            "60000/60000 [==============================] - 1s 20us/step - loss: 0.0383 - accuracy: 0.8205 - val_loss: 0.0371 - val_accuracy: 0.8306\n",
            "Epoch 152/200\n",
            "60000/60000 [==============================] - 1s 20us/step - loss: 0.0380 - accuracy: 0.8217 - val_loss: 0.0369 - val_accuracy: 0.8309\n",
            "Epoch 153/200\n",
            "60000/60000 [==============================] - 1s 20us/step - loss: 0.0378 - accuracy: 0.8227 - val_loss: 0.0367 - val_accuracy: 0.8322\n",
            "Epoch 154/200\n",
            "60000/60000 [==============================] - 1s 20us/step - loss: 0.0375 - accuracy: 0.8238 - val_loss: 0.0364 - val_accuracy: 0.8328\n",
            "Epoch 155/200\n",
            "60000/60000 [==============================] - 1s 20us/step - loss: 0.0373 - accuracy: 0.8250 - val_loss: 0.0362 - val_accuracy: 0.8340\n",
            "Epoch 156/200\n",
            "60000/60000 [==============================] - 1s 20us/step - loss: 0.0371 - accuracy: 0.8257 - val_loss: 0.0360 - val_accuracy: 0.8355\n",
            "Epoch 157/200\n",
            "60000/60000 [==============================] - 1s 20us/step - loss: 0.0368 - accuracy: 0.8266 - val_loss: 0.0357 - val_accuracy: 0.8366\n",
            "Epoch 158/200\n",
            "60000/60000 [==============================] - 1s 20us/step - loss: 0.0366 - accuracy: 0.8276 - val_loss: 0.0355 - val_accuracy: 0.8371\n",
            "Epoch 159/200\n",
            "60000/60000 [==============================] - 1s 20us/step - loss: 0.0364 - accuracy: 0.8288 - val_loss: 0.0353 - val_accuracy: 0.8379\n",
            "Epoch 160/200\n",
            "60000/60000 [==============================] - 1s 20us/step - loss: 0.0362 - accuracy: 0.8295 - val_loss: 0.0351 - val_accuracy: 0.8394\n",
            "Epoch 161/200\n",
            "60000/60000 [==============================] - 1s 20us/step - loss: 0.0360 - accuracy: 0.8303 - val_loss: 0.0348 - val_accuracy: 0.8403\n",
            "Epoch 162/200\n",
            "60000/60000 [==============================] - 1s 20us/step - loss: 0.0357 - accuracy: 0.8309 - val_loss: 0.0346 - val_accuracy: 0.8411\n",
            "Epoch 163/200\n",
            "60000/60000 [==============================] - 1s 20us/step - loss: 0.0355 - accuracy: 0.8319 - val_loss: 0.0344 - val_accuracy: 0.8427\n",
            "Epoch 164/200\n",
            "60000/60000 [==============================] - 1s 20us/step - loss: 0.0353 - accuracy: 0.8327 - val_loss: 0.0342 - val_accuracy: 0.8432\n",
            "Epoch 165/200\n",
            "60000/60000 [==============================] - 1s 20us/step - loss: 0.0351 - accuracy: 0.8337 - val_loss: 0.0340 - val_accuracy: 0.8438\n",
            "Epoch 166/200\n",
            "60000/60000 [==============================] - 1s 20us/step - loss: 0.0349 - accuracy: 0.8342 - val_loss: 0.0338 - val_accuracy: 0.8442\n",
            "Epoch 167/200\n",
            "60000/60000 [==============================] - 1s 20us/step - loss: 0.0347 - accuracy: 0.8347 - val_loss: 0.0336 - val_accuracy: 0.8450\n",
            "Epoch 168/200\n",
            "60000/60000 [==============================] - 1s 20us/step - loss: 0.0345 - accuracy: 0.8355 - val_loss: 0.0334 - val_accuracy: 0.8456\n",
            "Epoch 169/200\n",
            "60000/60000 [==============================] - 1s 20us/step - loss: 0.0343 - accuracy: 0.8362 - val_loss: 0.0332 - val_accuracy: 0.8463\n",
            "Epoch 170/200\n",
            "60000/60000 [==============================] - 1s 20us/step - loss: 0.0342 - accuracy: 0.8368 - val_loss: 0.0330 - val_accuracy: 0.8471\n",
            "Epoch 171/200\n",
            "60000/60000 [==============================] - 1s 21us/step - loss: 0.0340 - accuracy: 0.8376 - val_loss: 0.0329 - val_accuracy: 0.8472\n",
            "Epoch 172/200\n",
            "60000/60000 [==============================] - 1s 20us/step - loss: 0.0338 - accuracy: 0.8383 - val_loss: 0.0327 - val_accuracy: 0.8482\n",
            "Epoch 173/200\n",
            "60000/60000 [==============================] - 1s 20us/step - loss: 0.0336 - accuracy: 0.8393 - val_loss: 0.0325 - val_accuracy: 0.8492\n",
            "Epoch 174/200\n",
            "60000/60000 [==============================] - 1s 20us/step - loss: 0.0334 - accuracy: 0.8401 - val_loss: 0.0323 - val_accuracy: 0.8502\n",
            "Epoch 175/200\n",
            "60000/60000 [==============================] - 1s 20us/step - loss: 0.0333 - accuracy: 0.8406 - val_loss: 0.0321 - val_accuracy: 0.8509\n",
            "Epoch 176/200\n",
            "60000/60000 [==============================] - 1s 20us/step - loss: 0.0331 - accuracy: 0.8412 - val_loss: 0.0320 - val_accuracy: 0.8518\n",
            "Epoch 177/200\n",
            "60000/60000 [==============================] - 1s 20us/step - loss: 0.0329 - accuracy: 0.8417 - val_loss: 0.0318 - val_accuracy: 0.8521\n",
            "Epoch 178/200\n",
            "60000/60000 [==============================] - 1s 20us/step - loss: 0.0327 - accuracy: 0.8424 - val_loss: 0.0316 - val_accuracy: 0.8527\n",
            "Epoch 179/200\n",
            "60000/60000 [==============================] - 1s 20us/step - loss: 0.0326 - accuracy: 0.8428 - val_loss: 0.0315 - val_accuracy: 0.8532\n",
            "Epoch 180/200\n",
            "60000/60000 [==============================] - 1s 20us/step - loss: 0.0324 - accuracy: 0.8435 - val_loss: 0.0313 - val_accuracy: 0.8538\n",
            "Epoch 181/200\n",
            "60000/60000 [==============================] - 1s 20us/step - loss: 0.0322 - accuracy: 0.8440 - val_loss: 0.0311 - val_accuracy: 0.8543\n",
            "Epoch 182/200\n",
            "60000/60000 [==============================] - 1s 20us/step - loss: 0.0321 - accuracy: 0.8447 - val_loss: 0.0310 - val_accuracy: 0.8551\n",
            "Epoch 183/200\n",
            "60000/60000 [==============================] - 1s 20us/step - loss: 0.0319 - accuracy: 0.8453 - val_loss: 0.0308 - val_accuracy: 0.8553\n",
            "Epoch 184/200\n",
            "60000/60000 [==============================] - 1s 20us/step - loss: 0.0318 - accuracy: 0.8458 - val_loss: 0.0307 - val_accuracy: 0.8554\n",
            "Epoch 185/200\n",
            "60000/60000 [==============================] - 1s 20us/step - loss: 0.0316 - accuracy: 0.8465 - val_loss: 0.0305 - val_accuracy: 0.8561\n",
            "Epoch 186/200\n",
            "60000/60000 [==============================] - 1s 20us/step - loss: 0.0315 - accuracy: 0.8468 - val_loss: 0.0303 - val_accuracy: 0.8563\n",
            "Epoch 187/200\n",
            "60000/60000 [==============================] - 1s 20us/step - loss: 0.0313 - accuracy: 0.8476 - val_loss: 0.0302 - val_accuracy: 0.8570\n",
            "Epoch 188/200\n",
            "60000/60000 [==============================] - 1s 20us/step - loss: 0.0312 - accuracy: 0.8480 - val_loss: 0.0300 - val_accuracy: 0.8573\n",
            "Epoch 189/200\n",
            "60000/60000 [==============================] - 1s 21us/step - loss: 0.0310 - accuracy: 0.8488 - val_loss: 0.0299 - val_accuracy: 0.8579\n",
            "Epoch 190/200\n",
            "60000/60000 [==============================] - 1s 20us/step - loss: 0.0309 - accuracy: 0.8494 - val_loss: 0.0298 - val_accuracy: 0.8580\n",
            "Epoch 191/200\n",
            "60000/60000 [==============================] - 1s 20us/step - loss: 0.0307 - accuracy: 0.8499 - val_loss: 0.0296 - val_accuracy: 0.8583\n",
            "Epoch 192/200\n",
            "60000/60000 [==============================] - 1s 20us/step - loss: 0.0306 - accuracy: 0.8504 - val_loss: 0.0295 - val_accuracy: 0.8588\n",
            "Epoch 193/200\n",
            "60000/60000 [==============================] - 1s 20us/step - loss: 0.0305 - accuracy: 0.8507 - val_loss: 0.0293 - val_accuracy: 0.8594\n",
            "Epoch 194/200\n",
            "60000/60000 [==============================] - 1s 20us/step - loss: 0.0303 - accuracy: 0.8512 - val_loss: 0.0292 - val_accuracy: 0.8599\n",
            "Epoch 195/200\n",
            "60000/60000 [==============================] - 1s 20us/step - loss: 0.0302 - accuracy: 0.8517 - val_loss: 0.0291 - val_accuracy: 0.8603\n",
            "Epoch 196/200\n",
            "60000/60000 [==============================] - 1s 21us/step - loss: 0.0301 - accuracy: 0.8522 - val_loss: 0.0289 - val_accuracy: 0.8609\n",
            "Epoch 197/200\n",
            "60000/60000 [==============================] - 1s 20us/step - loss: 0.0299 - accuracy: 0.8527 - val_loss: 0.0288 - val_accuracy: 0.8613\n",
            "Epoch 198/200\n",
            "60000/60000 [==============================] - 1s 20us/step - loss: 0.0298 - accuracy: 0.8530 - val_loss: 0.0287 - val_accuracy: 0.8616\n",
            "Epoch 199/200\n",
            "60000/60000 [==============================] - 1s 20us/step - loss: 0.0297 - accuracy: 0.8535 - val_loss: 0.0285 - val_accuracy: 0.8623\n",
            "Epoch 200/200\n",
            "60000/60000 [==============================] - 1s 20us/step - loss: 0.0295 - accuracy: 0.8538 - val_loss: 0.0284 - val_accuracy: 0.8629\n"
          ],
          "name": "stdout"
        },
        {
          "output_type": "execute_result",
          "data": {
            "text/plain": [
              "<keras.callbacks.callbacks.History at 0x7f9c093ffcf8>"
            ]
          },
          "metadata": {
            "tags": []
          },
          "execution_count": 65
        }
      ]
    },
    {
      "cell_type": "code",
      "metadata": {
        "id": "XxPke1VXBlJa",
        "colab_type": "code",
        "colab": {
          "base_uri": "https://localhost:8080/",
          "height": 52
        },
        "outputId": "eb175d28-08ec-4e21-ec68-b8a11b3bd2a0"
      },
      "source": [
        "model.evaluate(X_valid, y_valid)"
      ],
      "execution_count": null,
      "outputs": [
        {
          "output_type": "stream",
          "text": [
            "10000/10000 [==============================] - 0s 40us/step\n"
          ],
          "name": "stdout"
        },
        {
          "output_type": "execute_result",
          "data": {
            "text/plain": [
              "[0.028423249235749244, 0.8629000186920166]"
            ]
          },
          "metadata": {
            "tags": []
          },
          "execution_count": 67
        }
      ]
    },
    {
      "cell_type": "code",
      "metadata": {
        "id": "9wMyQXIdGYx-",
        "colab_type": "code",
        "colab": {}
      },
      "source": [
        ""
      ],
      "execution_count": null,
      "outputs": []
    }
  ]
}